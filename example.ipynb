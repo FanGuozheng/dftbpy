{
 "cells": [
  {
   "cell_type": "code",
   "execution_count": 1,
   "metadata": {},
   "outputs": [
    {
     "name": "stderr",
     "output_type": "stream",
     "text": [
      "/home/gz_fan/Documents/ML/dftb/IO/system.py:304: UserWarning: This overload of nonzero is deprecated:\n",
      "\tnonzero()\n",
      "Consider using one of the following signatures instead:\n",
      "\tnonzero(*, bool as_tuple) (Triggered internally at  /opt/conda/conda-bld/pytorch_1595629427478/work/torch/csrc/utils/python_arg_parser.cpp:766.)\n",
      "  return [[_atom_name[ii - 1] for ii in inu[inu.nonzero()]] for inu in self.numbers]\n"
     ]
    },
    {
     "name": "stdout",
     "output_type": "stream",
     "text": [
      "********************************************************************************\n",
      "                          non-periodic non-SCC-DFTB\n",
      "********************************************************************************\n",
      "list of atoms in batch: [['C', 'H', 'H', 'H', 'H']]\n",
      "\n",
      " charge (e):  tensor([[4.449677427815062, 0.887580643046236, 0.887580643046235,\n",
      "         0.887580643046237, 0.887580643046237]])\n",
      "\n",
      " dipole (eAng):  tensor([[0., 0., 0.]], dtype=torch.float32)\n",
      "\n",
      " TS energy (Hartree):  tensor([-2.936817317916145])\n",
      "\n",
      " repulsive energy (Hartree):  0.0\n",
      "\n",
      " total energy (Hartree):  tensor([-2.936817317916145])\n"
     ]
    }
   ],
   "source": [
    "import torch as t\n",
    "from dftbtorch.dftbcalculator import DFTBCalculator\n",
    "\n",
    "def test_CH4_nonscc():\n",
    "    \"\"\"Test charge of CH4 with non-scc DFTB.\"\"\"\n",
    "    dataset = {}\n",
    "    dataset['positions'] = t.tensor([\n",
    "            [0.0000000000, 0.0000000000, 0.0000000000],\n",
    "            [0.6287614522, 0.6287614522, 0.6287614522],\n",
    "            [-0.6287614522, -0.6287614522, 0.6287614522],\n",
    "            [-0.6287614522, 0.6287614522, -0.6287614522],\n",
    "            [0.6287614522, -0.6287614522, -0.6287614522]])\n",
    "    dataset['numbers'] = [[6, 1, 1, 1, 1]]\n",
    "    parameter = {}\n",
    "    parameter['scc'] = 'nonscc'  # nonscc, scc, xlbomd\n",
    "    parameter['directorySK'] = 'slko/test/'\n",
    "    DFTBCalculator(None, parameter, dataset)\n",
    "\n",
    "test_CH4_nonscc()"
   ]
  },
  {
   "cell_type": "code",
   "execution_count": null,
   "metadata": {},
   "outputs": [],
   "source": []
  },
  {
   "cell_type": "code",
   "execution_count": null,
   "metadata": {},
   "outputs": [],
   "source": []
  }
 ],
 "metadata": {
  "kernelspec": {
   "display_name": "Python 3",
   "language": "python",
   "name": "python3"
  },
  "language_info": {
   "codemirror_mode": {
    "name": "ipython",
    "version": 3
   },
   "file_extension": ".py",
   "mimetype": "text/x-python",
   "name": "python",
   "nbconvert_exporter": "python",
   "pygments_lexer": "ipython3",
   "version": "3.7.7"
  }
 },
 "nbformat": 4,
 "nbformat_minor": 4
}
