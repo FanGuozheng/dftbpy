{
 "cells": [
  {
   "cell_type": "code",
   "execution_count": 4,
   "metadata": {},
   "outputs": [
    {
     "name": "stdout",
     "output_type": "stream",
     "text": [
      "********************************************************************************\n",
      "                          non-periodic non-SCC-DFTB\n",
      "********************************************************************************\n",
      "list of atoms in batch: [['C', 'H', 'H', 'H', 'H']]\n",
      "\n",
      " charge (e):  tensor([[4.449677478406764, 0.887580630398310, 0.887580630398310,\n",
      "         0.887580630398311, 0.887580630398309]])\n",
      "\n",
      " dipole (eAng):  tensor([[ 2.109423746787797e-15, -1.332267629550188e-15, -2.775557561562891e-16]])\n",
      "\n",
      " TS energy (Hartree):  tensor([-2.936817334639544])\n",
      "\n",
      " repulsive energy (Hartree):  0.0\n",
      "\n",
      " total energy (Hartree):  tensor([-2.936817334639544])\n"
     ]
    },
    {
     "data": {
      "text/plain": [
       "<dftbtorch.dftb_torch.DFTBCalculator at 0x2aaaf445e7d0>"
      ]
     },
     "execution_count": 4,
     "metadata": {},
     "output_type": "execute_result"
    }
   ],
   "source": [
    "import torch as t\n",
    "import dftbtorch.dftb_torch as dftb_torch\n",
    "from dftbtorch.dftb_torch import DFTBCalculator\n",
    "\n",
    "dataset = {}\n",
    "skf = {}\n",
    "parameter = {}\n",
    "ml = {}\n",
    "t.set_default_dtype(d=t.float64)\n",
    "dataset['coordinate'] = t.tensor(([\n",
    "    [0.0000000000, 0.0000000000, 0.0000000000],\n",
    "    [0.6287614522, 0.6287614522, 0.6287614522],\n",
    "    [-0.6287614522, -0.6287614522, 0.6287614522],\n",
    "    [-0.6287614522, 0.6287614522, -0.6287614522],\n",
    "    [0.6287614522, -0.6287614522, -0.6287614522]]))\n",
    "dataset['atomNumber'] = [[6, 1, 1, 1, 1]]\n",
    "skf['direSK'] = './slko/test'\n",
    "parameter['scc'] = 'nonscc'\n",
    "ml['Lml'] = False\n",
    "DFTBCalculator(parameter, dataset, ml=ml, skf=skf)\n"
   ]
  },
  {
   "cell_type": "code",
   "execution_count": null,
   "metadata": {},
   "outputs": [],
   "source": []
  }
 ],
 "metadata": {
  "kernelspec": {
   "display_name": "Python 3",
   "language": "python",
   "name": "python3"
  },
  "language_info": {
   "codemirror_mode": {
    "name": "ipython",
    "version": 3
   },
   "file_extension": ".py",
   "mimetype": "text/x-python",
   "name": "python",
   "nbconvert_exporter": "python",
   "pygments_lexer": "ipython3",
   "version": "3.7.7"
  }
 },
 "nbformat": 4,
 "nbformat_minor": 4
}
